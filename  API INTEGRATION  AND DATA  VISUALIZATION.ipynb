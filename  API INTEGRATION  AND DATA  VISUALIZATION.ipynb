{
 "cells": [
  {
   "cell_type": "code",
   "execution_count": 1,
   "id": "0f03c8ac-5645-40fe-8daa-a151e665f3ca",
   "metadata": {},
   "outputs": [],
   "source": [
    "# Import necessary libraries\n",
    "import requests\n",
    "import matplotlib.pyplot as plt\n",
    "import numpy as np\n",
    "import pandas as pd\n",
    "from datetime import datetime, timedelta\n",
    "import matplotlib.dates as mdates\n",
    "import json\n",
    "from IPython.display import display, Markdown\n",
    "\n",
    "# Set up matplotlib for inline display in Jupyter\n",
    "%matplotlib inline\n",
    "plt.style.use('default')  # Use a clean style"
   ]
  },
  {
   "cell_type": "code",
   "execution_count": 2,
   "id": "8e6edd80-c5ea-4d1c-88e4-ecc890f8e237",
   "metadata": {},
   "outputs": [],
   "source": [
    "# Configuration\n",
    "CITY = \"London\"  # You can change this to any city"
   ]
  },
  {
   "cell_type": "code",
   "execution_count": 3,
   "id": "3068812e-368c-476c-ae39-934ead59734c",
   "metadata": {},
   "outputs": [
    {
     "name": "stdout",
     "output_type": "stream",
     "text": [
      "Error getting coordinates: 'lat'\n",
      "Coordinates for London: Latitude=51.5074, Longitude=-0.1278\n"
     ]
    }
   ],
   "source": [
    "# Function to get city coordinates (latitude and longitude)\n",
    "def get_city_coordinates(city_name):\n",
    "    \"\"\"Get latitude and longitude for a given city using a free API\"\"\"\n",
    "    try:\n",
    "        # Use the Countries Now API to get city coordinates\n",
    "        url = \"https://countriesnow.space/api/v0.1/countries/population/cities\"\n",
    "        response = requests.post(url, json={\"city\": city_name})\n",
    "        data = response.json()\n",
    "        \n",
    "        if data[\"error\"] == False and \"data\" in data:\n",
    "            city_data = data[\"data\"]\n",
    "            return city_data[\"lat\"], city_data[\"lng\"]\n",
    "        else:\n",
    "            # Fallback coordinates if API fails\n",
    "            print(f\"Could not find coordinates for {city_name}, using default\")\n",
    "            return 51.5074, -0.1278  # London coordinates as fallback\n",
    "    except Exception as e:\n",
    "        print(f\"Error getting coordinates: {e}\")\n",
    "        return 51.5074, -0.1278  # London coordinates as fallback\n",
    "\n",
    "# Get coordinates for our city\n",
    "lat, lon = get_city_coordinates(CITY)\n",
    "print(f\"Coordinates for {CITY}: Latitude={lat}, Longitude={lon}\")"
   ]
  },
  {
   "cell_type": "code",
   "execution_count": 5,
   "id": "8de1a0ec-c6ce-4a76-95d6-0e113057f416",
   "metadata": {},
   "outputs": [],
   "source": [
    "# Function to fetch weather data from Open-Meteo (free, no API key needed)\n",
    "def fetch_weather_data(latitude, longitude):\n",
    "    \"\"\"Fetch current weather and forecast data from Open-Meteo API\"\"\"\n",
    "    try:\n",
    "        # Current weather endpoint\n",
    "        current_url = f\"https://api.open-meteo.com/v1/forecast?latitude={latitude}&longitude={longitude}&current=temperature_2m,relative_humidity_2m,apparent_temperature,precipitation,weather_code,wind_speed_10m&temperature_unit=celsius&wind_speed_unit=ms&precipitation_unit=mm\"\n",
    "        \n",
    "        # 7-day forecast endpoint\n",
    "        forecast_url = f\"https://api.open-meteo.com/v1/forecast?latitude={latitude}&longitude={longitude}&hourly=temperature_2m,relative_humidity_2m,weather_code&daily=weather_code,temperature_2m_max,temperature_2m_min&temperature_unit=celsius&wind_speed_unit=ms&precipitation_unit=mm&timezone=auto\"\n",
    "        \n",
    "        # Fetch current weather data\n",
    "        current_response = requests.get(current_url)\n",
    "        current_data = current_response.json()\n",
    "        \n",
    "        # Fetch forecast data\n",
    "        forecast_response = requests.get(forecast_url)\n",
    "        forecast_data = forecast_response.json()\n",
    "        \n",
    "        return current_data, forecast_data\n",
    "    except Exception as e:\n",
    "        print(f\"Error fetching data: {e}\")\n",
    "        return None, None\n",
    "\n",
    "# Function to interpret weather codes\n",
    "def interpret_weather_code(code):\n",
    "    \"\"\"Convert WMO weather code to human-readable description\"\"\"\n",
    "    weather_codes = {\n",
    "        0: \"Clear sky\",\n",
    "        1: \"Mainly clear\", \n",
    "        2: \"Partly cloudy\",\n",
    "        3: \"Overcast\",\n",
    "        45: \"Fog\",\n",
    "        48: \"Depositing rime fog\",\n",
    "        51: \"Light drizzle\",\n",
    "        53: \"Moderate drizzle\",\n",
    "        55: \"Dense drizzle\",\n",
    "        56: \"Light freezing drizzle\",\n",
    "        57: \"Dense freezing drizzle\",\n",
    "        61: \"Slight rain\",\n",
    "        63: \"Moderate rain\",\n",
    "        65: \"Heavy rain\",\n",
    "        66: \"Light freezing rain\",\n",
    "        67: \"Heavy freezing rain\",\n",
    "        71: \"Slight snow fall\",\n",
    "        73: \"Moderate snow fall\",\n",
    "        75: \"Heavy snow fall\",\n",
    "        77: \"Snow grains\",\n",
    "        80: \"Slight rain showers\",\n",
    "        81: \"Moderate rain showers\",\n",
    "        82: \"Violent rain showers\",\n",
    "        85: \"Slight snow showers\",\n",
    "        86: \"Heavy snow showers\",\n",
    "        95: \"Thunderstorm\",\n",
    "        96: \"Thunderstorm with slight hail\",\n",
    "        99: \"Thunderstorm with heavy hail\"\n",
    "    }\n",
    "    return weather_codes.get(code, \"Unknown\")"
   ]
  },
  {
   "cell_type": "code",
   "execution_count": 6,
   "id": "a32c6d46-c278-4493-99b3-4e5a61f2da47",
   "metadata": {},
   "outputs": [
    {
     "data": {
      "text/markdown": [
       "## Fetching Weather Data"
      ],
      "text/plain": [
       "<IPython.core.display.Markdown object>"
      ]
     },
     "metadata": {},
     "output_type": "display_data"
    },
    {
     "data": {
      "text/markdown": [
       "### Current weather in London"
      ],
      "text/plain": [
       "<IPython.core.display.Markdown object>"
      ]
     },
     "metadata": {},
     "output_type": "display_data"
    },
    {
     "data": {
      "text/markdown": [
       "Temperature: 20.0°C"
      ],
      "text/plain": [
       "<IPython.core.display.Markdown object>"
      ]
     },
     "metadata": {},
     "output_type": "display_data"
    },
    {
     "data": {
      "text/markdown": [
       "Feels like: 18.4°C"
      ],
      "text/plain": [
       "<IPython.core.display.Markdown object>"
      ]
     },
     "metadata": {},
     "output_type": "display_data"
    },
    {
     "data": {
      "text/markdown": [
       "Conditions: Overcast"
      ],
      "text/plain": [
       "<IPython.core.display.Markdown object>"
      ]
     },
     "metadata": {},
     "output_type": "display_data"
    },
    {
     "data": {
      "text/markdown": [
       "Humidity: 43%"
      ],
      "text/plain": [
       "<IPython.core.display.Markdown object>"
      ]
     },
     "metadata": {},
     "output_type": "display_data"
    },
    {
     "data": {
      "text/markdown": [
       "Wind Speed: 1.79 m/s"
      ],
      "text/plain": [
       "<IPython.core.display.Markdown object>"
      ]
     },
     "metadata": {},
     "output_type": "display_data"
    },
    {
     "data": {
      "text/markdown": [
       "Precipitation: 0.0 mm"
      ],
      "text/plain": [
       "<IPython.core.display.Markdown object>"
      ]
     },
     "metadata": {},
     "output_type": "display_data"
    }
   ],
   "source": [
    "# Fetch the weather data\n",
    "display(Markdown(\"## Fetching Weather Data\"))\n",
    "current_data, forecast_data = fetch_weather_data(lat, lon)\n",
    "\n",
    "# Check if we got valid data\n",
    "if current_data is None or forecast_data is None:\n",
    "    print(\"Failed to fetch weather data. Please check your internet connection.\")\n",
    "else:\n",
    "    # Display basic information about the fetched data\n",
    "    current = current_data.get('current', {})\n",
    "    display(Markdown(f\"### Current weather in {CITY}\"))\n",
    "    display(Markdown(f\"Temperature: {current.get('temperature_2m', 'N/A')}°C\"))\n",
    "    display(Markdown(f\"Feels like: {current.get('apparent_temperature', 'N/A')}°C\"))\n",
    "    display(Markdown(f\"Conditions: {interpret_weather_code(current.get('weather_code', 0))}\"))\n",
    "    display(Markdown(f\"Humidity: {current.get('relative_humidity_2m', 'N/A')}%\"))\n",
    "    display(Markdown(f\"Wind Speed: {current.get('wind_speed_10m', 'N/A')} m/s\"))\n",
    "    display(Markdown(f\"Precipitation: {current.get('precipitation', 'N/A')} mm\"))"
   ]
  },
  {
   "cell_type": "code",
   "execution_count": 1,
   "id": "dd4494b7-5244-4b3f-a2b7-f7c754543d52",
   "metadata": {},
   "outputs": [
    {
     "ename": "NameError",
     "evalue": "name 'Markdown' is not defined",
     "output_type": "error",
     "traceback": [
      "\u001b[1;31m---------------------------------------------------------------------------\u001b[0m",
      "\u001b[1;31mNameError\u001b[0m                                 Traceback (most recent call last)",
      "Cell \u001b[1;32mIn[1], line 2\u001b[0m\n\u001b[0;32m      1\u001b[0m \u001b[38;5;66;03m# Create visualizations\u001b[39;00m\n\u001b[1;32m----> 2\u001b[0m display(Markdown(\u001b[38;5;124m\"\u001b[39m\u001b[38;5;124m## Creating Visualizations\u001b[39m\u001b[38;5;124m\"\u001b[39m))\n\u001b[0;32m      4\u001b[0m \u001b[38;5;66;03m# Set up the dashboard figure with subplots\u001b[39;00m\n\u001b[0;32m      5\u001b[0m fig \u001b[38;5;241m=\u001b[39m plt\u001b[38;5;241m.\u001b[39mfigure(figsize\u001b[38;5;241m=\u001b[39m(\u001b[38;5;241m15\u001b[39m, \u001b[38;5;241m12\u001b[39m))\n",
      "\u001b[1;31mNameError\u001b[0m: name 'Markdown' is not defined"
     ]
    }
   ],
   "source": [
    "# Create visualizations\n",
    "display(Markdown(\"## Creating Visualizations\"))\n",
    "\n",
    "# Set up the dashboard figure with subplots\n",
    "fig = plt.figure(figsize=(15, 12))\n",
    "fig.suptitle(f\"Weather Dashboard for {CITY}\", fontsize=16, fontweight='bold')\n",
    "\n",
    "# 1. Current weather summary\n",
    "ax1 = plt.subplot2grid((3, 2), (0, 0))\n",
    "if current_data:\n",
    "    current = current_data.get('current', {})\n",
    "    temp = current.get('temperature_2m', 'N/A')\n",
    "    feels_like = current.get('apparent_temperature', 'N/A')\n",
    "    humidity = current.get('relative_humidity_2m', 'N/A')\n",
    "    wind_speed = current.get('wind_speed_10m', 'N/A')\n",
    "    precipitation = current.get('precipitation', 'N/A')\n",
    "    weather_desc = interpret_weather_code(current.get('weather_code', 0))\n",
    "\n",
    "    ax1.text(0.5, 0.8, f\"{temp}°C\", fontsize=24, ha='center', color='#1f77b4')\n",
    "    ax1.text(0.5, 0.7, f\"Feels like: {feels_like}°C\", fontsize=12, ha='center', alpha=0.7)\n",
    "    ax1.text(0.5, 0.6, weather_desc, fontsize=16, ha='center')\n",
    "    ax1.text(0.5, 0.5, f\"Humidity: {humidity}%\", fontsize=12, ha='center')\n",
    "    ax1.text(0.5, 0.4, f\"Wind: {wind_speed} m/s\", fontsize=12, ha='center')\n",
    "    ax1.text(0.5, 0.3, f\"Precipitation: {precipitation} mm\", fontsize=12, ha='center')\n",
    "    ax1.set_title(\"Current Weather\", fontweight='bold')\n",
    "    ax1.axis('off')\n",
    "else:\n",
    "    ax1.text(0.5, 0.5, \"No current weather data\", ha='center')\n",
    "    ax1.axis('off')\n",
    "\n",
    "# 2. Temperature forecast chart\n",
    "ax2 = plt.subplot2grid((3, 2), (0, 1), rowspan=2)\n",
    "if forecast_data and 'hourly' in forecast_data:\n",
    "    hourly = forecast_data['hourly']\n",
    "    times = hourly['time'][:24]  # Next 24 hours\n",
    "    temps = hourly['temperature_2m'][:24]\n",
    "    \n",
    "    # Convert time strings to datetime objects\n",
    "    time_objs = [datetime.strptime(t, \"%Y-%m-%dT%H:%M\") for t in times]\n",
    "    \n",
    "    ax2.plot(time_objs, temps, marker='o', linewidth=2, color='orange')\n",
    "    ax2.set_title(\"24-Hour Temperature Forecast\", fontweight='bold')\n",
    "    ax2.set_ylabel(\"Temperature (°C)\")\n",
    "    ax2.xaxis.set_major_formatter(mdates.DateFormatter('%H:%M'))\n",
    "    ax2.grid(True, alpha=0.3)\n",
    "    plt.setp(ax2.xaxis.get_majorticklabels(), rotation=45)\n",
    "else:\n",
    "    ax2.text(0.5, 0.5, \"No forecast data\", ha='center')\n",
    "\n",
    "# 3. Humidity chart\n",
    "ax3 = plt.subplot2grid((3, 2), (2, 0))\n",
    "if forecast_data and 'hourly' in forecast_data:\n",
    "    hourly = forecast_data['hourly']\n",
    "    times = hourly['time'][:24]  # Next 24 hours\n",
    "    humidity = hourly['relative_humidity_2m'][:24]\n",
    "    \n",
    "    # Convert time strings to datetime objects\n",
    "    time_objs = [datetime.strptime(t, \"%Y-%m-%dT%H:%M\") for t in times]\n",
    "    \n",
    "    ax3.bar(time_objs, humidity, width=0.05, alpha=0.7, color='skyblue')\n",
    "    ax3.set_title(\"24-Hour Humidity Forecast\", fontweight='bold')\n",
    "    ax3.set_ylabel(\"Humidity (%)\")\n",
    "    ax3.xaxis.set_major_formatter(mdates.DateFormatter('%H:%M'))\n",
    "    ax3.grid(True, alpha=0.3)\n",
    "    plt.setp(ax3.xaxis.get_majorticklabels(), rotation=45)\n",
    "else:\n",
    "    ax3.text(0.5, 0.5, \"No forecast data\", ha='center')\n",
    "\n",
    "# 4. Weather conditions pie chart\n",
    "ax4 = plt.subplot2grid((3, 2), (2, 1))\n",
    "if forecast_data and 'hourly' in forecast_data:\n",
    "    hourly = forecast_data['hourly']\n",
    "    weather_codes = hourly['weather_code'][:24]  # Next 24 hours\n",
    "    \n",
    "    # Count occurrences of each weather type\n",
    "    weather_counts = {}\n",
    "    for code in weather_codes:\n",
    "        weather_type = interpret_weather_code(code)\n",
    "        weather_counts[weather_type] = weather_counts.get(weather_type, 0) + 1\n",
    "    \n",
    "    if weather_counts:\n",
    "        labels = list(weather_counts.keys())\n",
    "        sizes = list(weather_counts.values())\n",
    "        colors = plt.cm.Set3(np.linspace(0, 1, len(labels)))\n",
    "        \n",
    "        ax4.pie(sizes, labels=labels, autopct='%1.1f%%', startangle=90, colors=colors)\n",
    "        ax4.set_title(\"Weather Conditions Distribution (24-Hour Forecast)\", fontweight='bold')\n",
    "        ax4.axis('equal')\n",
    "    else:\n",
    "        ax4.text(0.5, 0.5, \"No weather data\", ha='center')\n",
    "else:\n",
    "    ax4.text(0.5, 0.5, \"No forecast data\", ha='center')\n",
    "\n",
    "plt.tight_layout()\n",
    "plt.subplots_adjust(top=0.93)\n",
    "plt.show()"
   ]
  },
  {
   "cell_type": "code",
   "execution_count": 8,
   "id": "f8b23e23-eba9-4901-a359-b553352e4dd4",
   "metadata": {},
   "outputs": [
    {
     "data": {
      "text/markdown": [
       "## 7-Day Temperature Forecast"
      ],
      "text/plain": [
       "<IPython.core.display.Markdown object>"
      ]
     },
     "metadata": {},
     "output_type": "display_data"
    },
    {
     "data": {
      "image/png": "[encoded data removed]",
      "text/plain": [
       "<Figure size 1000x600 with 1 Axes>"
      ]
     },
     "metadata": {},
     "output_type": "display_data"
    }
   ],
   "source": [
    "# Additional visualization: 7-day temperature forecast\n",
    "display(Markdown(\"## 7-Day Temperature Forecast\"))\n",
    "\n",
    "if forecast_data and 'daily' in forecast_data:\n",
    "    daily = forecast_data['daily']\n",
    "    dates = daily['time'][:7]  # Next 7 days\n",
    "    max_temps = daily['temperature_2m_max'][:7]\n",
    "    min_temps = daily['temperature_2m_min'][:7]\n",
    "    \n",
    "    # Convert date strings to datetime objects\n",
    "    date_objs = [datetime.strptime(d, \"%Y-%m-%d\") for d in dates]\n",
    "    \n",
    "    # Create the plot\n",
    "    fig, ax = plt.subplots(figsize=(10, 6))\n",
    "    \n",
    "    # Plot max and min temperatures\n",
    "    ax.plot(date_objs, max_temps, marker='o', linewidth=2, label='Max Temp', color='red')\n",
    "    ax.plot(date_objs, min_temps, marker='o', linewidth=2, label='Min Temp', color='blue')\n",
    "    \n",
    "    # Fill between max and min\n",
    "    ax.fill_between(date_objs, max_temps, min_temps, alpha=0.3, color='gray')\n",
    "    \n",
    "    ax.set_xlabel('Date')\n",
    "    ax.set_ylabel('Temperature (°C)')\n",
    "    ax.set_title('7-Day Temperature Forecast', fontweight='bold')\n",
    "    ax.legend()\n",
    "    ax.grid(True, alpha=0.3)\n",
    "    \n",
    "    # Format x-axis dates\n",
    "    ax.xaxis.set_major_formatter(mdates.DateFormatter('%m/%d'))\n",
    "    plt.setp(ax.xaxis.get_majorticklabels(), rotation=45)\n",
    "    \n",
    "    plt.tight_layout()\n",
    "    plt.show()\n",
    "else:\n",
    "    print(\"No daily forecast data available\")"
   ]
  },
  {
   "cell_type": "code",
   "execution_count": 11,
   "id": "9ad8e9a3-2c23-4fe1-9538-e7fbd7ecc08e",
   "metadata": {},
   "outputs": [
    {
     "data": {
      "text/markdown": [
       "### Data saved to 'weather_data.json'"
      ],
      "text/plain": [
       "<IPython.core.display.Markdown object>"
      ]
     },
     "metadata": {},
     "output_type": "display_data"
    }
   ],
   "source": [
    "# Save the data to a JSON file for future reference\n",
    "if current_data and forecast_data:\n",
    "    with open('weather_data.json', 'w') as f:\n",
    "        json.dump({\n",
    "            'current': current_data,\n",
    "            'forecast': forecast_data,\n",
    "            'retrieved': datetime.now().isoformat(),\n",
    "            'city': CITY,\n",
    "            'coordinates': {'lat': lat, 'lon': lon}\n",
    "        }, f, indent=2)\n",
    "\n",
    "    display(Markdown(\"### Data saved to 'weather_data.json'\"))\n",
    "else:\n",
    "    print(\"No data to save\")"
   ]
  },
  {
   "cell_type": "code",
   "execution_count": null,
   "id": "09f1cd38-49a5-4f42-91f0-b22e651f34f8",
   "metadata": {},
   "outputs": [],
   "source": []
  }
 ],
 "metadata": {
  "kernelspec": {
   "display_name": "Python [conda env:base] *",
   "language": "python",
   "name": "conda-base-py"
  },
  "language_info": {
   "codemirror_mode": {
    "name": "ipython",
    "version": 3
   },
   "file_extension": ".py",
   "mimetype": "text/x-python",
   "name": "python",
   "nbconvert_exporter": "python",
   "pygments_lexer": "ipython3",
   "version": "3.13.5"
  }
 },
 "nbformat": 4,
 "nbformat_minor": 5
}
